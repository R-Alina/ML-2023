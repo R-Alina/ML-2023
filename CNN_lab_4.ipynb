{
 "cells": [
  {
   "cell_type": "code",
   "execution_count": 1,
   "id": "N5xavnt8u2IO",
   "metadata": {
    "executionInfo": {
     "elapsed": 9234,
     "status": "ok",
     "timestamp": 1683253610991,
     "user": {
      "displayName": "Alina Romanenko",
      "userId": "11643866897356461602"
     },
     "user_tz": -180
    },
    "id": "N5xavnt8u2IO"
   },
   "outputs": [],
   "source": [
    "import numpy as np\n",
    "from tensorflow import keras\n",
    "from keras.datasets import fashion_mnist\n",
    "import matplotlib.pyplot as plt\n",
    "from tensorflow.keras.models import Sequential\n",
    "from tensorflow.keras.layers import Dense, Flatten, Conv2D, MaxPooling2D\n",
    "from keras import losses \n",
    "from keras import metrics\n",
    "from keras import optimizers\n",
    "from keras import models"
   ]
  },
  {
   "cell_type": "code",
   "execution_count": 2,
   "id": "e3BQ3Qq2u556",
   "metadata": {
    "colab": {
     "base_uri": "https://localhost:8080/"
    },
    "executionInfo": {
     "elapsed": 1304,
     "status": "ok",
     "timestamp": 1683253639194,
     "user": {
      "displayName": "Alina Romanenko",
      "userId": "11643866897356461602"
     },
     "user_tz": -180
    },
    "id": "e3BQ3Qq2u556",
    "outputId": "fadb9dcc-5d23-415d-880d-73cc347dd514"
   },
   "outputs": [
    {
     "name": "stdout",
     "output_type": "stream",
     "text": [
      "Downloading data from https://storage.googleapis.com/tensorflow/tf-keras-datasets/train-labels-idx1-ubyte.gz\n",
      "29515/29515 [==============================] - 0s 0us/step\n",
      "Downloading data from https://storage.googleapis.com/tensorflow/tf-keras-datasets/train-images-idx3-ubyte.gz\n",
      "26421880/26421880 [==============================] - 0s 0us/step\n",
      "Downloading data from https://storage.googleapis.com/tensorflow/tf-keras-datasets/t10k-labels-idx1-ubyte.gz\n",
      "5148/5148 [==============================] - 0s 0us/step\n",
      "Downloading data from https://storage.googleapis.com/tensorflow/tf-keras-datasets/t10k-images-idx3-ubyte.gz\n",
      "4422102/4422102 [==============================] - 0s 0us/step\n"
     ]
    }
   ],
   "source": [
    "(train_img, train_label), (test_img, test_label) = fashion_mnist.load_data()"
   ]
  },
  {
   "cell_type": "code",
   "execution_count": 3,
   "id": "roQ2ichLvD4p",
   "metadata": {
    "colab": {
     "base_uri": "https://localhost:8080/"
    },
    "executionInfo": {
     "elapsed": 544,
     "status": "ok",
     "timestamp": 1683253650803,
     "user": {
      "displayName": "Alina Romanenko",
      "userId": "11643866897356461602"
     },
     "user_tz": -180
    },
    "id": "roQ2ichLvD4p",
    "outputId": "b3a6d5e6-ed80-4956-ead1-70e9e66eff01"
   },
   "outputs": [
    {
     "name": "stdout",
     "output_type": "stream",
     "text": [
      "(60000, 28, 28)\n",
      "(10000, 28, 28)\n"
     ]
    }
   ],
   "source": [
    "print(train_img.shape)\n",
    "print(test_img.shape)"
   ]
  },
  {
   "cell_type": "code",
   "execution_count": 4,
   "id": "PWI32vDNvINl",
   "metadata": {
    "colab": {
     "base_uri": "https://localhost:8080/",
     "height": 433
    },
    "executionInfo": {
     "elapsed": 2506,
     "status": "ok",
     "timestamp": 1683253663571,
     "user": {
      "displayName": "Alina Romanenko",
      "userId": "11643866897356461602"
     },
     "user_tz": -180
    },
    "id": "PWI32vDNvINl",
    "outputId": "af0c6dd7-130c-4a17-e0bc-1148d1b906c0"
   },
   "outputs": [
    {
     "data": {
      "image/png": "[encoded data removed]",
      "text/plain": [
       "<Figure size 640x480 with 9 Axes>"
      ]
     },
     "metadata": {},
     "output_type": "display_data"
    }
   ],
   "source": [
    "for i in range(1, 10):\n",
    "  plt.subplot(3, 3, i)\n",
    "  plt.imshow(train_img[i], cmap= plt.get_cmap('gray'))\n",
    "plt.show()"
   ]
  },
  {
   "cell_type": "code",
   "execution_count": 5,
   "id": "dtimP6MlvJoy",
   "metadata": {
    "executionInfo": {
     "elapsed": 1227,
     "status": "ok",
     "timestamp": 1683253674440,
     "user": {
      "displayName": "Alina Romanenko",
      "userId": "11643866897356461602"
     },
     "user_tz": -180
    },
    "id": "dtimP6MlvJoy"
   },
   "outputs": [],
   "source": [
    "train_img=train_img.astype('float32')\n",
    "test_img=test_img.astype('float32')\n",
    "train_img=train_img / 255.0\n",
    "test_img=test_img / 255.0"
   ]
  },
  {
   "cell_type": "code",
   "execution_count": 6,
   "id": "N1pQv-rnvNt5",
   "metadata": {
    "colab": {
     "base_uri": "https://localhost:8080/"
    },
    "executionInfo": {
     "elapsed": 303,
     "status": "ok",
     "timestamp": 1683253685247,
     "user": {
      "displayName": "Alina Romanenko",
      "userId": "11643866897356461602"
     },
     "user_tz": -180
    },
    "id": "N1pQv-rnvNt5",
    "outputId": "a7cf4fd2-5d5f-429c-d28d-84bb6831b071"
   },
   "outputs": [
    {
     "name": "stdout",
     "output_type": "stream",
     "text": [
      "(60000, 28, 28, 1)\n"
     ]
    }
   ],
   "source": [
    "train_img = np.expand_dims(train_img, -1)\n",
    "test_img = np.expand_dims(test_img, -1)\n",
    "print(train_img.shape)"
   ]
  },
  {
   "cell_type": "code",
   "execution_count": 7,
   "id": "WeDPVhSavQ0m",
   "metadata": {
    "executionInfo": {
     "elapsed": 658,
     "status": "ok",
     "timestamp": 1683253697965,
     "user": {
      "displayName": "Alina Romanenko",
      "userId": "11643866897356461602"
     },
     "user_tz": -180
    },
    "id": "WeDPVhSavQ0m"
   },
   "outputs": [],
   "source": [
    "from keras.utils.sidecar_evaluator import optimizer\n",
    "def conv_model():\n",
    "  models=Sequential()\n",
    "  models.add(Conv2D(64,(5,5), \n",
    "                    padding='same',\n",
    "                    activation='relu',\n",
    "                    input_shape=(28,28,1)))\n",
    "  models.add(MaxPooling2D(pool_size=(2,2)))\n",
    "  models.add(Conv2D(128, (5,5),\n",
    "                    padding='same',\n",
    "                    activation='relu'))\n",
    "  models.add(MaxPooling2D(pool_size=(2,2)))\n",
    "  models.add(Conv2D(256, (5,5),\n",
    "                    padding='same',\n",
    "                    activation='relu'))\n",
    "  models.add(MaxPooling2D(pool_size=(2,2)))\n",
    "  models.add(Flatten())\n",
    "  models.add(Dense(256, activation='relu'))\n",
    "  models.add(Dense(10, activation='softmax'))\n",
    "  return models\n",
    "\n",
    "model = conv_model()\n",
    "\n",
    "model.compile(optimizer='adam',\n",
    "              loss='sparse_categorical_crossentropy',\n",
    "\n",
    "              metrics = ['accuracy'])"
   ]
  },
  {
   "cell_type": "code",
   "execution_count": 8,
   "id": "EpUtBU5bvTFM",
   "metadata": {
    "colab": {
     "base_uri": "https://localhost:8080/"
    },
    "executionInfo": {
     "elapsed": 675,
     "status": "ok",
     "timestamp": 1683253713728,
     "user": {
      "displayName": "Alina Romanenko",
      "userId": "11643866897356461602"
     },
     "user_tz": -180
    },
    "id": "EpUtBU5bvTFM",
    "outputId": "ef953f6c-ba13-48c9-9401-37158f5ce28b"
   },
   "outputs": [
    {
     "name": "stdout",
     "output_type": "stream",
     "text": [
      "Model: \"sequential\"\n",
      "_________________________________________________________________\n",
      " Layer (type)                Output Shape              Param #   \n",
      "=================================================================\n",
      " conv2d (Conv2D)             (None, 28, 28, 64)        1664      \n",
      "                                                                 \n",
      " max_pooling2d (MaxPooling2D  (None, 14, 14, 64)       0         \n",
      " )                                                               \n",
      "                                                                 \n",
      " conv2d_1 (Conv2D)           (None, 14, 14, 128)       204928    \n",
      "                                                                 \n",
      " max_pooling2d_1 (MaxPooling  (None, 7, 7, 128)        0         \n",
      " 2D)                                                             \n",
      "                                                                 \n",
      " conv2d_2 (Conv2D)           (None, 7, 7, 256)         819456    \n",
      "                                                                 \n",
      " max_pooling2d_2 (MaxPooling  (None, 3, 3, 256)        0         \n",
      " 2D)                                                             \n",
      "                                                                 \n",
      " flatten (Flatten)           (None, 2304)              0         \n",
      "                                                                 \n",
      " dense (Dense)               (None, 256)               590080    \n",
      "                                                                 \n",
      " dense_1 (Dense)             (None, 10)                2570      \n",
      "                                                                 \n",
      "=================================================================\n",
      "Total params: 1,618,698\n",
      "Trainable params: 1,618,698\n",
      "Non-trainable params: 0\n",
      "_________________________________________________________________\n"
     ]
    }
   ],
   "source": [
    "model.summary()"
   ]
  },
  {
   "cell_type": "code",
   "execution_count": 10,
   "id": "DEyqsr-vvZlm",
   "metadata": {
    "colab": {
     "base_uri": "https://localhost:8080/"
    },
    "executionInfo": {
     "elapsed": 5763393,
     "status": "ok",
     "timestamp": 1683259837253,
     "user": {
      "displayName": "Alina Romanenko",
      "userId": "11643866897356461602"
     },
     "user_tz": -180
    },
    "id": "DEyqsr-vvZlm",
    "outputId": "5234d2c0-2cab-463e-ec60-29feed583fc2"
   },
   "outputs": [
    {
     "name": "stdout",
     "output_type": "stream",
     "text": [
      "Epoch 1/10\n",
      "201/201 [==============================] - 633s 3s/step - loss: 0.5674 - accuracy: 0.7918 - val_loss: 0.3556 - val_accuracy: 0.8725\n",
      "Epoch 2/10\n",
      "201/201 [==============================] - 602s 3s/step - loss: 0.3171 - accuracy: 0.8837 - val_loss: 0.3205 - val_accuracy: 0.8817\n",
      "Epoch 3/10\n",
      "201/201 [==============================] - 604s 3s/step - loss: 0.2623 - accuracy: 0.9047 - val_loss: 0.2630 - val_accuracy: 0.9050\n",
      "Epoch 4/10\n",
      "201/201 [==============================] - 617s 3s/step - loss: 0.2284 - accuracy: 0.9162 - val_loss: 0.2474 - val_accuracy: 0.9122\n",
      "Epoch 5/10\n",
      "201/201 [==============================] - 598s 3s/step - loss: 0.1998 - accuracy: 0.9264 - val_loss: 0.2410 - val_accuracy: 0.9118\n",
      "Epoch 6/10\n",
      "201/201 [==============================] - 601s 3s/step - loss: 0.1713 - accuracy: 0.9369 - val_loss: 0.2416 - val_accuracy: 0.9119\n",
      "Epoch 7/10\n",
      "201/201 [==============================] - 580s 3s/step - loss: 0.1496 - accuracy: 0.9434 - val_loss: 0.2302 - val_accuracy: 0.9203\n",
      "Epoch 8/10\n",
      "201/201 [==============================] - 613s 3s/step - loss: 0.1269 - accuracy: 0.9525 - val_loss: 0.2534 - val_accuracy: 0.9159\n",
      "Epoch 9/10\n",
      "201/201 [==============================] - 582s 3s/step - loss: 0.1076 - accuracy: 0.9598 - val_loss: 0.2452 - val_accuracy: 0.9204\n",
      "Epoch 10/10\n",
      "201/201 [==============================] - 608s 3s/step - loss: 0.0877 - accuracy: 0.9679 - val_loss: 0.2571 - val_accuracy: 0.9197\n"
     ]
    }
   ],
   "source": [
    "history = model.fit(\n",
    "    train_img,\n",
    "    train_label,\n",
    "    epochs=10,\n",
    "    batch_size=200, \n",
    "    #validation_data=(valid_img, valid_label)\n",
    "    validation_split=0.33\n",
    ")"
   ]
  },
  {
   "cell_type": "code",
   "execution_count": 11,
   "id": "Ge-ip9lO345B",
   "metadata": {
    "colab": {
     "base_uri": "https://localhost:8080/"
    },
    "executionInfo": {
     "elapsed": 316,
     "status": "ok",
     "timestamp": 1683263801488,
     "user": {
      "displayName": "Alina Romanenko",
      "userId": "11643866897356461602"
     },
     "user_tz": -180
    },
    "id": "Ge-ip9lO345B",
    "outputId": "3135c8ef-e855-41f9-d108-f8ab109f5b29"
   },
   "outputs": [
    {
     "name": "stdout",
     "output_type": "stream",
     "text": [
      "dict_keys(['loss', 'accuracy', 'val_loss', 'val_accuracy'])\n"
     ]
    }
   ],
   "source": [
    "print(history.history.keys())"
   ]
  },
  {
   "cell_type": "code",
   "execution_count": 12,
   "id": "CLEQTNw_4Bl7",
   "metadata": {
    "colab": {
     "base_uri": "https://localhost:8080/",
     "height": 944
    },
    "executionInfo": {
     "elapsed": 1033,
     "status": "ok",
     "timestamp": 1683263811064,
     "user": {
      "displayName": "Alina Romanenko",
      "userId": "11643866897356461602"
     },
     "user_tz": -180
    },
    "id": "CLEQTNw_4Bl7",
    "outputId": "38dc8018-2abd-45fa-bc65-a6ae8e214670"
   },
   "outputs": [
    {
     "data": {
      "image/png": "[encoded data removed]",
      "text/plain": [
       "<Figure size 640x480 with 1 Axes>"
      ]
     },
     "metadata": {},
     "output_type": "display_data"
    },
    {
     "data": {
      "text/plain": [
       "Text(0.5, 1.0, 'Training and validation accurancy')"
      ]
     },
     "execution_count": 12,
     "metadata": {},
     "output_type": "execute_result"
    },
    {
     "data": {
      "image/png": "[encoded data removed]",
      "text/plain": [
       "<Figure size 640x480 with 1 Axes>"
      ]
     },
     "metadata": {},
     "output_type": "display_data"
    }
   ],
   "source": [
    "hist_dict = history.history\n",
    "values_loss= hist_dict[\"loss\"]\n",
    "values_loss_valid = hist_dict['val_loss']\n",
    "epochs=range(1, len(hist_dict['accuracy']) +1)\n",
    "\n",
    "plt.plot(epochs, values_loss, '-', label='Training loss')\n",
    "plt.plot(epochs, values_loss_valid, '--', label='Validation loss')\n",
    "plt.xlabel('Epochs')\n",
    "plt.ylabel('Loss')\n",
    "plt.legend()\n",
    "plt.title('Training and validation loss')\n",
    "plt.show()\n",
    "\n",
    "plt.clf()\n",
    "values_accuracy_valid = hist_dict['val_accuracy']\n",
    "plt.plot(epochs, hist_dict['accuracy'], '-', label='Training accuracy')\n",
    "plt.plot(epochs, hist_dict['val_accuracy'], '--', label='Validation accuracy')\n",
    "plt.xlabel('Epochs')\n",
    "plt.ylabel('Loss')\n",
    "plt.legend()\n",
    "plt.title(\"Training and validation accurancy\")"
   ]
  },
  {
   "cell_type": "code",
   "execution_count": 13,
   "id": "79iMVpFQ4IRu",
   "metadata": {
    "colab": {
     "base_uri": "https://localhost:8080/"
    },
    "executionInfo": {
     "elapsed": 36171,
     "status": "ok",
     "timestamp": 1683263881251,
     "user": {
      "displayName": "Alina Romanenko",
      "userId": "11643866897356461602"
     },
     "user_tz": -180
    },
    "id": "79iMVpFQ4IRu",
    "outputId": "86096a33-38fd-4e70-e4a0-a483f40b80d6"
   },
   "outputs": [
    {
     "name": "stdout",
     "output_type": "stream",
     "text": [
      "313/313 [==============================] - 36s 115ms/step - loss: 0.2872 - accuracy: 0.9102\n",
      "[0.28716742992401123, 0.9101999998092651]\n"
     ]
    }
   ],
   "source": [
    "results=model.evaluate(test_img, test_label)\n",
    "print(results)"
   ]
  },
  {
   "cell_type": "code",
   "execution_count": 21,
   "id": "mRdJ-F5VYD7l",
   "metadata": {
    "executionInfo": {
     "elapsed": 334,
     "status": "ok",
     "timestamp": 1683264808783,
     "user": {
      "displayName": "Alina Romanenko",
      "userId": "11643866897356461602"
     },
     "user_tz": -180
    },
    "id": "mRdJ-F5VYD7l"
   },
   "outputs": [],
   "source": [
    "model.save_weights('./model.h5', overwrite=True)"
   ]
  },
  {
   "cell_type": "markdown",
   "id": "1a64ba18",
   "metadata": {},
   "source": [
    "# Висновок"
   ]
  },
  {
   "cell_type": "markdown",
   "id": "kPe01iroWquO",
   "metadata": {
    "id": "kPe01iroWquO"
   },
   "source": [
    "В результаті створення на навчання нейромоережі було доясягено результату точності - 91%. Та втрати скалають 28%. \n",
    "Даний результат є вищим, ніж при подібній мережі повнозв'язного типу і досягається цей результат мешою кількістю епох. Що є трохи зручнішим, проте нейрона мережа згорткового типу навчається набагато довше, аніж мережа повнозв'язного типу."
   ]
  },
  {
   "cell_type": "code",
   "execution_count": 20,
   "id": "MF2L3y21YjUE",
   "metadata": {
    "colab": {
     "base_uri": "https://localhost:8080/",
     "height": 465
    },
    "executionInfo": {
     "elapsed": 746,
     "status": "ok",
     "timestamp": 1683264786705,
     "user": {
      "displayName": "Alina Romanenko",
      "userId": "11643866897356461602"
     },
     "user_tz": -180
    },
    "id": "MF2L3y21YjUE",
    "outputId": "848bbf52-6c17-4f5d-dd28-10e2be07e3cd"
   },
   "outputs": [
    {
     "name": "stdout",
     "output_type": "stream",
     "text": [
      "1/1 [==============================] - 0s 51ms/step\n",
      "ankle_boots\n"
     ]
    },
    {
     "data": {
      "image/png": "[encoded data removed]",
      "text/plain": [
       "<Figure size 640x480 with 1 Axes>"
      ]
     },
     "metadata": {},
     "output_type": "display_data"
    }
   ],
   "source": [
    "labels = ['t_shirt', 'trouser', 'pullover', 'dress', 'coat','sandal', 'shirt', 'sneaker', 'bag', 'ankle_boots']\n",
    "                      \n",
    "prediction=model.predict(test_img[:1])\n",
    "label=labels[np.argmax(prediction)]\n",
    "\n",
    "print(label)\n",
    "plt.imshow(test_img[:2][0])\n",
    "plt.show()"
   ]
  }
 ],
 "metadata": {
  "colab": {
   "provenance": []
  },
  "gpuClass": "standard",
  "kernelspec": {
   "display_name": "Python 3 (ipykernel)",
   "language": "python",
   "name": "python3"
  },
  "language_info": {
   "codemirror_mode": {
    "name": "ipython",
    "version": 3
   },
   "file_extension": ".py",
   "mimetype": "text/x-python",
   "name": "python",
   "nbconvert_exporter": "python",
   "pygments_lexer": "ipython3",
   "version": "3.9.13"
  },
  "varInspector": {
   "cols": {
    "lenName": 16,
    "lenType": 16,
    "lenVar": 40
   },
   "kernels_config": {
    "python": {
     "delete_cmd_postfix": "",
     "delete_cmd_prefix": "del ",
     "library": "var_list.py",
     "varRefreshCmd": "print(var_dic_list())"
    },
    "r": {
     "delete_cmd_postfix": ") ",
     "delete_cmd_prefix": "rm(",
     "library": "var_list.r",
     "varRefreshCmd": "cat(var_dic_list()) "
    }
   },
   "types_to_exclude": [
    "module",
    "function",
    "builtin_function_or_method",
    "instance",
    "_Feature"
   ],
   "window_display": false
  }
 },
 "nbformat": 4,
 "nbformat_minor": 5
}
