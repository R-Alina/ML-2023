{
  "cells": [
    {
      "cell_type": "code",
      "execution_count": null,
      "metadata": {
        "id": "apLMujx7B0TN"
      },
      "outputs": [],
      "source": [
        "import numpy as np\n",
        "import tensorflow as tf\n",
        "from tensorflow import keras\n",
        "from keras.datasets import fashion_mnist\n",
        "import matplotlib.pyplot as plt\n",
        "from tensorflow.keras.models import Sequential\n",
        "from keras import layers\n",
        "from tensorflow.keras.layers import * #Dense, Flatten, Conv2D, MaxPooling2D \n",
        "from keras import losses \n",
        "from keras import metrics\n",
        "from keras import optimizers\n",
        "from keras import models\n",
        "from tensorflow.keras import utils\n",
        "from keras.applications.vgg16 import VGG16\n",
        "from keras.preprocessing.image import ImageDataGenerator"
      ]
    },
    {
      "cell_type": "code",
      "execution_count": null,
      "metadata": {
        "colab": {
          "base_uri": "https://localhost:8080/"
        },
        "id": "M0zwIDuOB-di",
        "outputId": "0d16363f-482d-4a2f-b6d6-dab84eb83bd3"
      },
      "outputs": [
        {
          "name": "stdout",
          "output_type": "stream",
          "text": [
            "Downloading data from https://storage.googleapis.com/tensorflow/tf-keras-datasets/train-labels-idx1-ubyte.gz\n",
            "29515/29515 [==============================] - 0s 0us/step\n",
            "Downloading data from https://storage.googleapis.com/tensorflow/tf-keras-datasets/train-images-idx3-ubyte.gz\n",
            "26421880/26421880 [==============================] - 0s 0us/step\n",
            "Downloading data from https://storage.googleapis.com/tensorflow/tf-keras-datasets/t10k-labels-idx1-ubyte.gz\n",
            "5148/5148 [==============================] - 0s 0us/step\n",
            "Downloading data from https://storage.googleapis.com/tensorflow/tf-keras-datasets/t10k-images-idx3-ubyte.gz\n",
            "4422102/4422102 [==============================] - 0s 0us/step\n"
          ]
        }
      ],
      "source": [
        "(train_img, train_label), (test_img, test_label)=fashion_mnist.load_data()"
      ]
    },
    {
      "cell_type": "code",
      "execution_count": null,
      "metadata": {
        "colab": {
          "base_uri": "https://localhost:8080/"
        },
        "id": "kpe9u52HCBdt",
        "outputId": "53f444cb-f830-4bd3-c28e-212dac99b482"
      },
      "outputs": [
        {
          "name": "stdout",
          "output_type": "stream",
          "text": [
            "Downloading data from https://storage.googleapis.com/tensorflow/keras-applications/vgg16/vgg16_weights_tf_dim_ordering_tf_kernels_notop.h5\n",
            "58889256/58889256 [==============================] - 5s 0us/step\n"
          ]
        }
      ],
      "source": [
        "base_conv=VGG16(weights='imagenet', include_top=False, input_shape=(150, 150, 3))"
      ]
    },
    {
      "cell_type": "code",
      "execution_count": null,
      "metadata": {
        "id": "ZOQETKNPCC4L"
      },
      "outputs": [],
      "source": [
        "train_label=utils.to_categorical(train_label)\n",
        "test_label=utils.to_categorical(test_label)"
      ]
    },
    {
      "cell_type": "code",
      "execution_count": null,
      "metadata": {
        "id": "F1WQIfcICD2g"
      },
      "outputs": [],
      "source": [
        "train_img=np.reshape(train_img,(-1, 28, 28,1))\n",
        "test_img=np.reshape(test_img,(-1, 28,28, 1))"
      ]
    },
    {
      "cell_type": "code",
      "execution_count": null,
      "metadata": {
        "colab": {
          "base_uri": "https://localhost:8080/"
        },
        "id": "XGYDJicSCWy5",
        "outputId": "0ec685ac-b243-4657-b3e2-f43168db1876"
      },
      "outputs": [
        {
          "data": {
            "text/plain": [
              "TensorShape([60000, 28, 28, 3])"
            ]
          },
          "execution_count": 6,
          "metadata": {},
          "output_type": "execute_result"
        }
      ],
      "source": [
        "from keras.layers.merging.concatenate import Concatenate\n",
        "train_img=Concatenate()([train_img, train_img, train_img])\n",
        "test_img=Concatenate()([test_img, test_img, test_img])\n",
        "\n",
        "train_img.shape"
      ]
    },
    {
      "cell_type": "code",
      "execution_count": null,
      "metadata": {
        "colab": {
          "base_uri": "https://localhost:8080/"
        },
        "id": "nHxq0-LnCbnQ",
        "outputId": "c1ff48a9-b328-472e-f6fd-a3804d56bb49"
      },
      "outputs": [
        {
          "data": {
            "text/plain": [
              "(TensorShape([60000, 32, 32, 3]), TensorShape([60000, 28, 28, 3]))"
            ]
          },
          "execution_count": 7,
          "metadata": {},
          "output_type": "execute_result"
        }
      ],
      "source": [
        "new_size_train_img=tf.image.resize(train_img, (32, 32))\n",
        "new_size_test_img=tf.image.resize(test_img, (32, 32))\n",
        "\n",
        "new_size_train_img.shape, train_img.shape"
      ]
    },
    {
      "cell_type": "code",
      "execution_count": null,
      "metadata": {
        "id": "mhFc0XRICeO2"
      },
      "outputs": [],
      "source": [
        "from tensorflow.keras.utils import img_to_array\n",
        "img_train = np.array([img_to_array(im) for im in new_size_train_img])\n",
        "img_test=np.array([img_to_array(im) for im in new_size_test_img])"
      ]
    },
    {
      "cell_type": "code",
      "execution_count": null,
      "metadata": {
        "id": "SUd6Nz44CgGi"
      },
      "outputs": [],
      "source": [
        "from sklearn.model_selection import train_test_split\n",
        "train_img, valid_img, train_label, valid_label = train_test_split(img_train, \n",
        "                                                                  train_label,\n",
        "                                                                  test_size=0.2,\n",
        "                                                                  random_state=13)"
      ]
    },
    {
      "cell_type": "code",
      "execution_count": null,
      "metadata": {
        "id": "WWgOzk6JChA4"
      },
      "outputs": [],
      "source": [
        "train_generator = ImageDataGenerator(\n",
        "    rescale=1./255,\n",
        "    rotation_range = 20,\n",
        "    width_shift_range=0.2,\n",
        "    height_shift_range=0.2,\n",
        "    shear_range=0.2,\n",
        "    zoom_range=0.2,\n",
        "    horizontal_flip=True,\n",
        "    fill_mode='nearest'\n",
        ")\n",
        "test_generator=ImageDataGenerator(\n",
        "    rescale=1./255\n",
        ")"
      ]
    },
    {
      "cell_type": "code",
      "execution_count": null,
      "metadata": {
        "id": "hntydp1kCmBc"
      },
      "outputs": [],
      "source": [
        "train_generator.fit(train_img)\n",
        "test_generator.fit(valid_img)"
      ]
    },
    {
      "cell_type": "code",
      "execution_count": null,
      "metadata": {
        "id": "te202j8aCo4-"
      },
      "outputs": [],
      "source": [
        "train_generator = train_generator.flow(train_img, train_label, batch_size=200)\n",
        "test_generator = test_generator.flow(valid_img, valid_label, batch_size=200)"
      ]
    },
    {
      "cell_type": "code",
      "execution_count": null,
      "metadata": {
        "colab": {
          "base_uri": "https://localhost:8080/"
        },
        "id": "d_UuI95pCpFW",
        "outputId": "97e84e31-66ef-418d-b3f1-f857ea43fbba"
      },
      "outputs": [
        {
          "data": {
            "text/plain": [
              "TensorShape([10000, 28, 28, 3])"
            ]
          },
          "execution_count": 13,
          "metadata": {},
          "output_type": "execute_result"
        }
      ],
      "source": [
        "test_img.shape"
      ]
    },
    {
      "cell_type": "code",
      "execution_count": null,
      "metadata": {
        "id": "669uCxwlCtDk"
      },
      "outputs": [],
      "source": [
        "base_conv=VGG16(weights='imagenet', include_top=False, input_shape=(150, 150, 3))"
      ]
    },
    {
      "cell_type": "code",
      "execution_count": null,
      "metadata": {
        "id": "Fe5Tp-2LCwUe"
      },
      "outputs": [],
      "source": [
        "base_conv.trainable=False\n",
        "trainable_set= True\n",
        "for layer in base_conv.layers:\n",
        "  if layer.name == 'block3_conv1':\n",
        "    trainable_set = True\n",
        "  if trainable_set:\n",
        "    layer.trainable = True\n",
        "  else:\n",
        "    layer.trainable = False"
      ]
    },
    {
      "cell_type": "code",
      "execution_count": null,
      "metadata": {
        "id": "_lgN3Fb0C82k"
      },
      "outputs": [],
      "source": [
        "from keras import layers\n",
        "target_size=(150,150)\n",
        "original_dim=(32,32,3)\n",
        "model = models.Sequential()\n",
        "model.add(layers.Input(original_dim))\n",
        "model.add(layers.Lambda(lambda image:tf.image.resize(image, target_size)))\n",
        "model.add(base_conv)\n",
        "model.add(layers.Flatten())\n",
        "model.add(layers.Dropout(0.3))\n",
        "model.add(layers.Dense(256, activation='relu', kernel_initializer='he_uniform'))\n",
        "model.add(layers.Dense(128, activation='relu'))\n",
        "model.add(layers.Dense(10, activation='softmax'))"
      ]
    },
    {
      "cell_type": "code",
      "execution_count": null,
      "metadata": {
        "colab": {
          "base_uri": "https://localhost:8080/"
        },
        "id": "gOloY8HsC9qA",
        "outputId": "9f67cf18-a29d-4f3d-839e-a1cc89a071b8"
      },
      "outputs": [
        {
          "name": "stdout",
          "output_type": "stream",
          "text": [
            "Model: \"sequential\"\n",
            "_________________________________________________________________\n",
            " Layer (type)                Output Shape              Param #   \n",
            "=================================================================\n",
            " lambda (Lambda)             (None, 150, 150, 3)       0         \n",
            "                                                                 \n",
            " vgg16 (Functional)          (None, 4, 4, 512)         14714688  \n",
            "                                                                 \n",
            " flatten (Flatten)           (None, 8192)              0         \n",
            "                                                                 \n",
            " dropout (Dropout)           (None, 8192)              0         \n",
            "                                                                 \n",
            " dense (Dense)               (None, 256)               2097408   \n",
            "                                                                 \n",
            " dense_1 (Dense)             (None, 128)               32896     \n",
            "                                                                 \n",
            " dense_2 (Dense)             (None, 10)                1290      \n",
            "                                                                 \n",
            "=================================================================\n",
            "Total params: 16,846,282\n",
            "Trainable params: 2,131,594\n",
            "Non-trainable params: 14,714,688\n",
            "_________________________________________________________________\n"
          ]
        }
      ],
      "source": [
        "model.summary()"
      ]
    },
    {
      "cell_type": "code",
      "execution_count": null,
      "metadata": {
        "id": "PgluGC2BDBEm"
      },
      "outputs": [],
      "source": [
        "from keras.callbacks import ModelCheckpoint\n",
        "checkpoint = ModelCheckpoint(filepath='best_weights.hdf5', verbose=1, save_best_only=True)\n",
        "\n",
        "model.compile(loss='categorical_crossentropy',\n",
        "              optimizer = keras.optimizers.RMSprop(1e-4),\n",
        "              metrics = ['accuracy'])"
      ]
    },
    {
      "cell_type": "code",
      "execution_count": 19,
      "metadata": {
        "colab": {
          "base_uri": "https://localhost:8080/"
        },
        "id": "CCT4ihzaDCv2",
        "outputId": "8ef6d498-73e7-476e-b009-e716aeac8e94"
      },
      "outputs": [
        {
          "output_type": "stream",
          "name": "stdout",
          "text": [
            "Epoch 1/5\n",
            "50/50 [==============================] - ETA: 0s - loss: 1.6751 - accuracy: 0.4159 \n",
            "Epoch 1: val_loss improved from inf to 0.86083, saving model to best_weights.hdf5\n",
            "50/50 [==============================] - 3657s 74s/step - loss: 1.6751 - accuracy: 0.4159 - val_loss: 0.8608 - val_accuracy: 0.7189\n",
            "Epoch 2/5\n",
            "50/50 [==============================] - ETA: 0s - loss: 1.1066 - accuracy: 0.6171 \n",
            "Epoch 2: val_loss improved from 0.86083 to 0.69867, saving model to best_weights.hdf5\n",
            "50/50 [==============================] - 3637s 74s/step - loss: 1.1066 - accuracy: 0.6171 - val_loss: 0.6987 - val_accuracy: 0.7449\n",
            "Epoch 3/5\n",
            "50/50 [==============================] - ETA: 0s - loss: 0.9420 - accuracy: 0.6655 \n",
            "Epoch 3: val_loss improved from 0.69867 to 0.61523, saving model to best_weights.hdf5\n",
            "50/50 [==============================] - 3624s 73s/step - loss: 0.9420 - accuracy: 0.6655 - val_loss: 0.6152 - val_accuracy: 0.7778\n",
            "Epoch 4/5\n",
            "50/50 [==============================] - ETA: 0s - loss: 0.8605 - accuracy: 0.6905 \n",
            "Epoch 4: val_loss improved from 0.61523 to 0.55727, saving model to best_weights.hdf5\n",
            "50/50 [==============================] - 3625s 73s/step - loss: 0.8605 - accuracy: 0.6905 - val_loss: 0.5573 - val_accuracy: 0.7977\n",
            "Epoch 5/5\n",
            "50/50 [==============================] - ETA: 0s - loss: 0.8119 - accuracy: 0.7046 \n",
            "Epoch 5: val_loss did not improve from 0.55727\n",
            "50/50 [==============================] - 3564s 72s/step - loss: 0.8119 - accuracy: 0.7046 - val_loss: 0.6134 - val_accuracy: 0.7744\n"
          ]
        }
      ],
      "source": [
        "from keras.api._v2.keras import callbacks\n",
        "history = model.fit(train_generator,\n",
        "                    epochs=5,\n",
        "                    steps_per_epoch=50,\n",
        "                    callbacks=[checkpoint],\n",
        "                    validation_data=test_generator,\n",
        "                    validation_steps=60,\n",
        "                    shuffle=True)"
      ]
    },
    {
      "cell_type": "code",
      "source": [
        "plt.plot(history.history['accuracy'], label ='accuracy')\n",
        "plt.plot(history.history['val_accuracy'], label='valid_accuracy')\n",
        "plt.legend()\n",
        "plt.title(\"Training and validation accurancy\")"
      ],
      "metadata": {
        "colab": {
          "base_uri": "https://localhost:8080/",
          "height": 469
        },
        "id": "N5BbdymxSjT6",
        "outputId": "a6df0907-1efa-4778-ace9-e2a85665e6ad"
      },
      "execution_count": 24,
      "outputs": [
        {
          "output_type": "execute_result",
          "data": {
            "text/plain": [
              "Text(0.5, 1.0, 'Training and validation accurancy')"
            ]
          },
          "metadata": {},
          "execution_count": 24
        },
        {
          "output_type": "display_data",
          "data": {
            "text/plain": [
              "<Figure size 640x480 with 1 Axes>"
            ],
            "image/png": "[encoded data removed]"
          },
          "metadata": {}
        }
      ]
    },
    {
      "cell_type": "code",
      "source": [
        "plt.plot(history.history['loss'], label='loss')\n",
        "plt.plot(history.history['val_loss'], label='val_loss')\n",
        "plt.legend()\n",
        "plt.title('Training and validation loss')"
      ],
      "metadata": {
        "colab": {
          "base_uri": "https://localhost:8080/",
          "height": 469
        },
        "id": "FxfOPM8sSkLV",
        "outputId": "c3348be2-fd3b-44ad-81ce-2e385a9da852"
      },
      "execution_count": 25,
      "outputs": [
        {
          "output_type": "execute_result",
          "data": {
            "text/plain": [
              "Text(0.5, 1.0, 'Training and validation loss')"
            ]
          },
          "metadata": {},
          "execution_count": 25
        },
        {
          "output_type": "display_data",
          "data": {
            "text/plain": [
              "<Figure size 640x480 with 1 Axes>"
            ],
            "image/png": "[encoded data removed]"
          },
          "metadata": {}
        }
      ]
    },
    {
      "cell_type": "code",
      "source": [
        "test_img=tf.image.resize(test_img,(150,150))"
      ],
      "metadata": {
        "id": "oVY9qdWrSnPG"
      },
      "execution_count": 22,
      "outputs": []
    },
    {
      "cell_type": "code",
      "source": [
        "test_generator=ImageDataGenerator(\n",
        "    rescale=1./255\n",
        ")\n",
        "test_generator.fit(test_img)\n",
        "test_generator=test_generator.flow(\n",
        "    test_img,\n",
        "    test_label,\n",
        "    batch_size=200)\n",
        "\n",
        "test_loss, test_accuracy = model.evaluate (test_generator, steps=50)\n",
        "print('test accuracy is: ', test_accuracy)"
      ],
      "metadata": {
        "colab": {
          "base_uri": "https://localhost:8080/"
        },
        "id": "hm3DeNvfSrVp",
        "outputId": "55fbd591-39b9-4169-c499-8c23cc583d11"
      },
      "execution_count": 28,
      "outputs": [
        {
          "output_type": "stream",
          "name": "stdout",
          "text": [
            "50/50 [==============================] - 1644s 33s/step - loss: 0.7457 - accuracy: 0.7418\n",
            "test accuracy is:  0.7418000102043152\n"
          ]
        }
      ]
    },
    {
      "cell_type": "code",
      "source": [
        "model = keras.models.load_model('best_weights.hdf5')"
      ],
      "metadata": {
        "colab": {
          "base_uri": "https://localhost:8080/"
        },
        "id": "wJT03Cg-SuLF",
        "outputId": "9e281e0c-9fc3-4ff8-b8e9-47565ee61761"
      },
      "execution_count": 29,
      "outputs": [
        {
          "output_type": "stream",
          "name": "stderr",
          "text": [
            "WARNING:tensorflow:Error in loading the saved optimizer state. As a result, your model is starting with a freshly initialized optimizer.\n"
          ]
        }
      ]
    },
    {
      "cell_type": "code",
      "source": [
        "test_generator=ImageDataGenerator(\n",
        "    rescale=1./255\n",
        ")\n",
        "test_generator.fit(test_img)\n",
        "test_generator=test_generator.flow(\n",
        "    test_img,\n",
        "    test_label,\n",
        "    batch_size=200)\n",
        "\n",
        "test_loss, test_accuracy = model.evaluate(test_generator, steps=50)\n",
        "print('test accuracy is: ', test_accuracy)"
      ],
      "metadata": {
        "colab": {
          "base_uri": "https://localhost:8080/"
        },
        "id": "igmIxaLsSw9G",
        "outputId": "776f3dbe-8ce6-4fe7-f27d-be5165133cda"
      },
      "execution_count": null,
      "outputs": [
        {
          "output_type": "stream",
          "name": "stdout",
          "text": [
            "43/50 [========================>.....] - ETA: 3:49 - loss: 0.6144 - accuracy: 0.7752"
          ]
        }
      ]
    },
    {
      "cell_type": "markdown",
      "source": [
        "# Висновок"
      ],
      "metadata": {
        "id": "AjWAUvfxzWPJ"
      }
    },
    {
      "cell_type": "markdown",
      "source": [
        "Отже, в результаті створення та навчання нейромережі було досягнено результату точності - 77%. \n",
        "Даний показник є меншим аніж у згортковій нейромережі без шару VGG16 та мережі повнозв'язного типу, хоча низька точність може залежати від малої кількості епох - 5. Проте навіть з даною кількістю епок дана мережа началась 7 годин, а з більшою кілкістю епох мережа Інтернету перезавантажувалсь і процес не міг бути закінченим. \n",
        "Отже, як висоновок можна стверджувати, що раще використовувати мережі або без шару VGG16, або запускати мережу на навчання на сервері зі стабільним з'єднанням. "
      ],
      "metadata": {
        "id": "mk0J-OyqzYP4"
      }
    },
    {
      "cell_type": "code",
      "source": [],
      "metadata": {
        "id": "tgUTLIGW0CH_"
      },
      "execution_count": null,
      "outputs": []
    }
  ],
  "metadata": {
    "colab": {
      "provenance": []
    },
    "kernelspec": {
      "display_name": "Python 3",
      "name": "python3"
    },
    "language_info": {
      "name": "python"
    }
  },
  "nbformat": 4,
  "nbformat_minor": 0
}